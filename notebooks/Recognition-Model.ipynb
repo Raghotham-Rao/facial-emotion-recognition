{
 "cells": [
  {
   "cell_type": "code",
   "execution_count": 2,
   "metadata": {},
   "outputs": [],
   "source": [
    "# import os\n",
    "# os.environ['KERAS_BACKEND'] = 'theano'"
   ]
  },
  {
   "cell_type": "code",
   "execution_count": 28,
   "metadata": {},
   "outputs": [],
   "source": [
    "import os\n",
    "import numpy as np\n",
    "import tensorflow.keras as keras\n",
    "from keras import backend as K\n",
    "from keras.models import Sequential\n",
    "from keras.layers import Activation\n",
    "from keras.layers.core import Dense, Flatten, Activation, Dropout\n",
    "from keras.optimizers import Adam\n",
    "from keras.metrics import categorical_crossentropy\n",
    "from keras.preprocessing.image import ImageDataGenerator\n",
    "from keras.layers.normalization import BatchNormalization\n",
    "from keras.layers.convolutional import *\n",
    "import matplotlib.pyplot as plt\n",
    "from sklearn.metrics import confusion_matrix\n",
    "import itertools\n",
    "import pandas as pd\n",
    "import PIL\n",
    "import seaborn as sn\n",
    "%matplotlib inline"
   ]
  },
  {
   "cell_type": "markdown",
   "metadata": {},
   "source": [
    "<h4 style=\"font-family: Ubuntu; padding: 2%; font-size: 25px; font-weight: lighter;\">Function to plot the images</h4>"
   ]
  },
  {
   "cell_type": "code",
   "execution_count": 1,
   "metadata": {},
   "outputs": [],
   "source": [
    "def plots(ims, figsize=(24,12), rows=1, interp=False, titles=None):\n",
    "    if type(ims[0]) is np.ndarray:\n",
    "        ims = np.array(ims).astype(np.uint8)\n",
    "        if (ims.shape[-1] != 3):\n",
    "            ims = ims.transpose((0,2,3,1))\n",
    "    f = plt.figure(figsize=figsize)\n",
    "    cols = len(ims)//rows if len(ims) % 2 == 0 else len(ims)//rows + 1\n",
    "    for i in range(len(ims)):\n",
    "        sp = f.add_subplot(rows, cols, i+1)\n",
    "        sp.axis('Off')\n",
    "        if titles is not None:\n",
    "            sp.set_title(titles[i], fontsize=16)\n",
    "        plt.imshow(ims[i], interpolation=None if interp else 'none')"
   ]
  },
  {
   "cell_type": "markdown",
   "metadata": {},
   "source": [
    "<h4 style=\"padding: 2%; font-size: 25px; font-weight: lighter;font-family: Ubuntu\">This node is only used to create the dummy dataset <span style=\"color: tomato; font-size: 18px;\">(please ignore if present)</span></h4>"
   ]
  },
  {
   "cell_type": "code",
   "execution_count": 30,
   "metadata": {},
   "outputs": [],
   "source": [
    "# req = {'train':100, 'test': 40, 'validate': 50}\n",
    "# for i in ['train', 'test', 'validate']:\n",
    "#     for j in ['angry', 'happy', 'surprise']:\n",
    "# #         os.system('mkdir ../dummy_data/' + i + '/' + j)\n",
    "#         files = os.listdir('../data/' + i + '/' + j)[:req[i]]\n",
    "\n",
    "#         for file in files:\n",
    "#             os.system('cp ../data/' + i + '/' + j + '/' + file +' ../dummy_data/' + i + '/' + j + '/' + file)\n",
    "# #             print('cp ../data/' + i + '/' + j + '/' + file +' ../dummy_data/' + i + '/' + j + '/' + file)\n",
    "# #             break"
   ]
  },
  {
   "cell_type": "markdown",
   "metadata": {},
   "source": [
    "<h4 style=\"font-family: Ubuntu; padding: 2%; font-size: 25px; font-weight: lighter;\">Setting train, test and validate paths</h4>"
   ]
  },
  {
   "cell_type": "code",
   "execution_count": 6,
   "metadata": {},
   "outputs": [],
   "source": [
    "train_path = '../data/train'\n",
    "test_path = '../data/test'\n",
    "validate_path = '../data/validate'"
   ]
  },
  {
   "cell_type": "code",
   "execution_count": 2,
   "metadata": {},
   "outputs": [],
   "source": [
    "train_batches = ImageDataGenerator().flow_from_directory(train_path, target_size=(48, 48), classes=['angry', 'happy', 'surprise'], batch_size=10)\n",
    "test_batches = ImageDataGenerator().flow_from_directory(test_path, target_size=(48, 48), classes=['angry', 'happy', 'surprise'], batch_size=8)\n",
    "validate_batches = ImageDataGenerator().flow_from_directory(validate_path, target_size=(48, 48), classes=['angry', 'happy', 'surprise'], batch_size=10)"
   ]
  },
  {
   "cell_type": "markdown",
   "metadata": {},
   "source": [
    "<h4 style=\"font-family: Ubuntu; padding: 2%; font-size: 25px; font-weight: lighter;\">Having a look at the Images</h4>"
   ]
  },
  {
   "cell_type": "code",
   "execution_count": 3,
   "metadata": {},
   "outputs": [],
   "source": [
    "imgs, labels = next(train_batches)\n",
    "\n",
    "plots(imgs, rows=8)"
   ]
  },
  {
   "cell_type": "markdown",
   "metadata": {},
   "source": [
    "<h4 style=\"font-family: Ubuntu; padding: 2%; font-size: 25px; font-weight: lighter;\">Building the model</h4>"
   ]
  },
  {
   "cell_type": "code",
   "execution_count": null,
   "metadata": {},
   "outputs": [],
   "source": [
    "num_features = 64\n",
    "width = 48\n",
    "height = 48\n",
    "\n",
    "model = Sequential()\n",
    "\n",
    "model.add(Conv2D(num_features, kernel_size=(3, 3), activation='relu', input_shape=(width, height, 3)))\n",
    "model.add(BatchNormalization())\n",
    "\n",
    "model.add(Conv2D(num_features, kernel_size=(3, 3), activation='relu'))\n",
    "model.add(BatchNormalization())\n",
    "model.add(MaxPooling2D(pool_size=(2, 2)))\n",
    "model.add(Dropout(0.25))\n",
    "\n",
    "model.add(Conv2D(num_features * 2, kernel_size=(3, 3), activation='relu'))\n",
    "model.add(BatchNormalization())\n",
    "model.add(Dropout(0.25))\n",
    "\n",
    "model.add(Conv2D(num_features * 4, kernel_size=(3, 3), activation='relu'))\n",
    "model.add(BatchNormalization())\n",
    "model.add(MaxPooling2D(pool_size=(2, 2)))\n",
    "model.add(Dropout(0.25))\n",
    "\n",
    "model.add(Conv2D(num_features * 6, kernel_size=(3, 3), activation='relu'))\n",
    "model.add(BatchNormalization())\n",
    "model.add(Dropout(0.5))\n",
    "\n",
    "model.add(Conv2D(num_features * 6, kernel_size=(3, 3), activation='relu'))\n",
    "model.add(BatchNormalization())\n",
    "model.add(MaxPooling2D(pool_size=(2, 2)))\n",
    "model.add(Dropout(0.5))\n",
    "\n",
    "model.add(Flatten())\n",
    "\n",
    "model.add(Dense(num_features * 8, activation='relu'))\n",
    "model.add(Dropout(0.5))\n",
    "\n",
    "model.add(Dense(num_features * 4, activation='relu'))\n",
    "model.add(Dropout(0.5))\n",
    "\n",
    "model.add(Dense(num_features * 2, activation='relu'))\n",
    "model.add(Dropout(0.5))\n",
    "\n",
    "model.add(Dense(7, activation='softmax'))"
   ]
  },
  {
   "cell_type": "code",
   "execution_count": null,
   "metadata": {},
   "outputs": [],
   "source": [
    "model.summary()"
   ]
  },
  {
   "cell_type": "code",
   "execution_count": null,
   "metadata": {},
   "outputs": [],
   "source": [
    "model.compile(Adam(lr=0.001), loss='categorical_crossentropy', metrics=['accuracy'])"
   ]
  },
  {
   "cell_type": "markdown",
   "metadata": {},
   "source": [
    "<h4 style=\"font-family: Ubuntu; padding: 2%; font-size: 25px; font-weight: lighter;\">Training the model</h4>"
   ]
  },
  {
   "cell_type": "code",
   "execution_count": null,
   "metadata": {},
   "outputs": [],
   "source": [
    "model.fit_generator(train_batches, steps_per_epoch=252, epochs=100, verbose=2, validation_data=validate_batches, validation_steps=126)"
   ]
  },
  {
   "cell_type": "markdown",
   "metadata": {},
   "source": [
    "<h4 style=\"font-family: Ubuntu; padding: 2%; font-size: 25px; font-weight: lighter;\">Testing the model</h4>"
   ]
  },
  {
   "cell_type": "code",
   "execution_count": 21,
   "metadata": {},
   "outputs": [
    {
     "name": "stdout",
     "output_type": "stream",
     "text": [
      "Found 4037 images belonging to 7 classes.\n"
     ]
    }
   ],
   "source": [
    "emotions = \"angry, disgust, fear, happy, neutral, sad, surprise\".split(\", \")\n",
    "test_batches = ImageDataGenerator().flow_from_directory(test_path, target_size=(48, 48), classes = emotions, batch_size=4037)"
   ]
  },
  {
   "cell_type": "code",
   "execution_count": 22,
   "metadata": {},
   "outputs": [],
   "source": [
    "test_imgs, test_labels = next(test_batches)\n",
    "test_labels = [emotions[np.where(i == 1)[0][0]] for i in test_labels]"
   ]
  },
  {
   "cell_type": "code",
   "execution_count": 23,
   "metadata": {},
   "outputs": [
    {
     "name": "stdout",
     "output_type": "stream",
     "text": [
      "2559 / 4037\n"
     ]
    }
   ],
   "source": [
    "correct = 0\n",
    "predictions = []\n",
    "for i,j in zip(test_imgs, test_labels):\n",
    "    prediction = model.predict(np.expand_dims(i, axis=0))\n",
    "    predicted_val = emotions[np.where(prediction == np.amax(prediction))[1][0]]\n",
    "    # print(\"Predicted: {0} \\t Actual: {1}\".format(predicted_val, j))\n",
    "    predictions.append(predicted_val)\n",
    "    correct += 1 if predicted_val in j else 0\n",
    "print(\"{0} / {1}\".format(correct, len(test_labels)))"
   ]
  },
  {
   "cell_type": "code",
   "execution_count": 24,
   "metadata": {},
   "outputs": [
    {
     "name": "stdout",
     "output_type": "stream",
     "text": [
      "Test Accuracy: 63.39 %\n"
     ]
    }
   ],
   "source": [
    "print(\"Test Accuracy: %.2f \" % (correct / len(test_labels) * 100) + \"%\")"
   ]
  },
  {
   "cell_type": "markdown",
   "metadata": {},
   "source": [
    "<h4 style=\"font-family: Ubuntu; padding: 2%; font-size: 20px; font-weight: lighter;\">Confusion Matrix</h4>"
   ]
  },
  {
   "cell_type": "code",
   "execution_count": 25,
   "metadata": {},
   "outputs": [
    {
     "name": "stdout",
     "output_type": "stream",
     "text": [
      "[[251  13  66  23  53  45  16]\n",
      " [ 53 383  23  10  10  25   0]\n",
      " [ 45   5 229  15  63  80  59]\n",
      " [ 21   2  30 711  76  24  31]\n",
      " [ 47   3  62  41 372  68  14]\n",
      " [ 77   9 124  31 122 270  20]\n",
      " [ 10   2  24  14  17   5 343]]\n"
     ]
    }
   ],
   "source": [
    "cm = confusion_matrix(test_labels, predictions)\n",
    "print(cm)"
   ]
  },
  {
   "cell_type": "code",
   "execution_count": 26,
   "metadata": {},
   "outputs": [],
   "source": [
    "def map_plot(cm, cmap, name, width, height, fmt='g'):\n",
    "    plt.subplots(figsize=(width, height))\n",
    "    sn.heatmap(cm, annot=True, cmap=cmap, annot_kws={\"size\": 12}, fmt=fmt, xticklabels=emotions, yticklabels=emotions)\n",
    "    plt.title(name, fontdict={'fontsize': '14', 'color': '#000000'})\n",
    "    plt.xlabel(\"Predicted\", fontdict={'fontsize': '14'})\n",
    "    plt.ylabel(\"Actual\", fontdict={'fontsize': '14'})\n",
    "    plt.show()"
   ]
  },
  {
   "cell_type": "code",
   "execution_count": 27,
   "metadata": {},
   "outputs": [
    {
     "data": {
      "image/png": "[encoded data removed]",
      "text/plain": [
       "<Figure size 1152x864 with 2 Axes>"
      ]
     },
     "metadata": {},
     "output_type": "display_data"
    }
   ],
   "source": [
    "# cmaps = ['binary', 'gist_yarg', 'gist_gray', 'gray', 'bone', 'pink','spring', 'summer', 'autumn', 'winter', 'cool', 'Wistia', 'hot', 'afmhot', 'gist_heat', 'copper']\n",
    "# cmaps = ['viridis', 'plasma', 'inferno', 'magma', 'cividis']\n",
    "# cmaps = ['Greys', 'Purples', 'Blues', 'Greens', 'Oranges', 'Reds', 'YlOrBr', 'YlOrRd', 'OrRd', 'PuRd', 'RdPu', 'BuPu','GnBu', 'PuBu', 'YlGnBu', 'PuBuGn', 'BuGn', 'YlGn']\n",
    "# cmaps = ['PiYG', 'PRGn', 'BrBG', 'PuOr', 'RdGy', 'RdBu','RdYlBu', 'RdYlGn', 'Spectral', 'coolwarm', 'bwr', 'seismic']\n",
    "# cmaps = ['twilight', 'twilight_shifted', 'hsv']\n",
    "# cmaps = ['Pastel1', 'Pastel2', 'Paired', 'Accent', 'Dark2', 'Set1', 'Set2', 'Set3', 'tab10', 'tab20', 'tab20b', 'tab20c']\n",
    "# cmaps = ['flag', 'prism', 'ocean', 'gist_earth', 'terrain', 'gist_stern', 'gnuplot', 'gnuplot2', 'CMRmap', 'cubehelix', 'brg', 'gist_rainbow', 'rainbow', 'jet', 'nipy_spectral', 'gist_ncar']\n",
    "\n",
    "# for cmap in cmaps:\n",
    "#     map_plot(cm, cmap, cmap, width=16, height=12)\n",
    "\n",
    "map_plot(cm, 'RdPu', \"Confusion Matrix\", width=16, height=12)"
   ]
  }
 ],
 "metadata": {
  "kernelspec": {
   "display_name": "Python 3",
   "language": "python",
   "name": "python3"
  },
  "language_info": {
   "codemirror_mode": {
    "name": "ipython",
    "version": 3
   },
   "file_extension": ".py",
   "mimetype": "text/x-python",
   "name": "python",
   "nbconvert_exporter": "python",
   "pygments_lexer": "ipython3",
   "version": "3.6.9"
  }
 },
 "nbformat": 4,
 "nbformat_minor": 2
}
